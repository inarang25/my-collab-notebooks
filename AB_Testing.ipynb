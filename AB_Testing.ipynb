{
  "cells": [
    {
      "cell_type": "markdown",
      "id": "6b154f50",
      "metadata": {
        "id": "6b154f50"
      },
      "source": [
        "<h2 align=\"center\" style=\"color:purple\">AB Testing: SNC Bank Credit Card Project</h2>"
      ]
    },
    {
      "cell_type": "markdown",
      "id": "f3f06109",
      "metadata": {
        "id": "f3f06109"
      },
      "source": [
        "### Business Analysis and launch of AB testing: Targeting Untapped Market\n",
        "\n",
        "### Insights specific to customers with age group of 18 - 25\n",
        "1. People with age group of 18 -25 accounts to ~25% of customer base in the data\n",
        "2. Avg annual income of this age group is less than 50k\n",
        "3. They don't have much credit history which is getting reflected in their credit score and max credit limit\n",
        "4. Usage of credit cards as payment type is relatively low compared to other groups\n",
        "5. Avg transaction amount made with credit cards is also low compared to other groups\n",
        "5. Top 3 most used shopping products categories  : Electronics, Fashion & Apparel, Beauty & Personal care"
      ]
    },
    {
      "cell_type": "markdown",
      "id": "9a38309b",
      "metadata": {
        "id": "9a38309b"
      },
      "source": [
        "## (1) Pre-Campaign\n",
        "\n",
        "We want to do a trial run for our new credit card. For this we need to figure out (1) How many customers do we need for our A/B testing. We will form a control and test group. For both of these groups we can figure out number of customers we need based on the statistical power and effect size that we agree upon after discussing with business. We will use"
      ]
    },
    {
      "cell_type": "code",
      "execution_count": 4,
      "id": "75c81bea",
      "metadata": {
        "id": "75c81bea"
      },
      "outputs": [],
      "source": [
        "#import required libraries\n",
        "import statsmodels.stats.api as sms\n",
        "import statsmodels.api as sm\n",
        "import pandas as pd\n",
        "import numpy as np\n",
        "from scipy import stats as st\n",
        "from matplotlib import pyplot as plt\n",
        "import seaborn as sns"
      ]
    },
    {
      "cell_type": "code",
      "execution_count": 5,
      "id": "0fe02ddd",
      "metadata": {
        "scrolled": true,
        "colab": {
          "base_uri": "https://localhost:8080/"
        },
        "id": "0fe02ddd",
        "outputId": "3658daa3-0a38-4d90-efef-049d88132e18"
      },
      "outputs": [
        {
          "output_type": "execute_result",
          "data": {
            "text/plain": [
              "393.40569300025163"
            ]
          },
          "metadata": {},
          "execution_count": 5
        }
      ],
      "source": [
        "alpha = 0.05\n",
        "power = 0.8\n",
        "effect_size=0.2\n",
        "\n",
        "sms.tt_ind_solve_power(\n",
        "    effect_size=0.2,\n",
        "    alpha=alpha,\n",
        "    power=power,\n",
        "    ratio=1,\n",
        "    alternative='two-sided'\n",
        ")"
      ]
    },
    {
      "cell_type": "markdown",
      "id": "d32f4efa",
      "metadata": {
        "id": "d32f4efa"
      },
      "source": [
        "For effect size 2 we need 393 customers. We have to keep in mind budgeting restrictions while running this campaign hence let us run this for different effect sizes and discuss with business to find out which sample size would be optimal"
      ]
    },
    {
      "cell_type": "code",
      "execution_count": 6,
      "id": "115a8636",
      "metadata": {
        "colab": {
          "base_uri": "https://localhost:8080/"
        },
        "id": "115a8636",
        "outputId": "be453973-cb4f-49b9-90bd-29b53ebe549d"
      },
      "outputs": [
        {
          "output_type": "stream",
          "name": "stdout",
          "text": [
            "Effect Size: 0.1, Required Sample Size: 1570 customers\n",
            "Effect Size: 0.2, Required Sample Size: 393 customers\n",
            "Effect Size: 0.3, Required Sample Size: 175 customers\n",
            "Effect Size: 0.4, Required Sample Size: 99 customers\n",
            "Effect Size: 0.5, Required Sample Size: 63 customers\n",
            "Effect Size: 1, Required Sample Size: 16 customers\n"
          ]
        }
      ],
      "source": [
        "# Calculate the required sample size for different effect sizes\n",
        "effect_sizes = [0.1, 0.2, 0.3, 0.4, 0.5,1]  #  standard deviations greater than control group\n",
        "\n",
        "for effect_size in effect_sizes:\n",
        "    sample_size = sms.tt_ind_solve_power(effect_size=effect_size, alpha=alpha, power=power, ratio=1, alternative='two-sided')\n",
        "    print(f\"Effect Size: {effect_size}, Required Sample Size: {int(sample_size)} customers\")"
      ]
    },
    {
      "cell_type": "markdown",
      "id": "d4d144ef",
      "metadata": {
        "id": "d4d144ef"
      },
      "source": [
        "Based on business requirements, the test should be capable of detecting a minimum 0.4 standard deviation difference between the control and test groups. For the effect size 0.4, we need 100 customers and when we discussed with business, 100 customers is ok in terms of their budgeting constraints for this trail run"
      ]
    },
    {
      "cell_type": "markdown",
      "id": "a1293528",
      "metadata": {
        "id": "a1293528"
      },
      "source": [
        "#### Forming control and test groups (includes assumptions like Budgeting, conversion rate etc)\n",
        "\n",
        "1.We have identified approximately 246 customers within the age group of 18 to 25. From this pool, we will select 100 customers for the initial campaign launch.\n",
        "\n",
        "2.The campaign is launched for 100 customers, as determined by the effective size calculation and by considering budgeting costs, and will run campaign for a duration of 2 months\n",
        "\n",
        "3.Got a conversion rate of ~40% ( implies 40 out of 100 customers in test group started using credit card)\n",
        "\n",
        "4.To maintain a similar sample size, a control group consisting of 40 customers will be created. Importantly, this control group will be completely exclusive of initial 100 customers used as test group.\n",
        "\n",
        "5.So now we have 40 customers in each of control and test groups"
      ]
    },
    {
      "cell_type": "markdown",
      "id": "84bf62c9",
      "metadata": {
        "id": "84bf62c9"
      },
      "source": [
        "##### At the end of the 2-month campaign period, we obtained daily data showing the average transaction amounts made by the entire group of 40 customers in both the control and test groups using existing and newly launched credit cards respectively\n",
        "\n",
        "##### The key performance indicator (KPI) for this AB test aims to enhance average transaction amounts facilitated by the new card"
      ]
    },
    {
      "cell_type": "markdown",
      "id": "97b7bc4f",
      "metadata": {
        "id": "97b7bc4f"
      },
      "source": [
        "## (2) Post-Campaign"
      ]
    },
    {
      "cell_type": "markdown",
      "id": "2dd8c69d",
      "metadata": {
        "id": "2dd8c69d"
      },
      "source": [
        "## Two Sample Z Test for Our Hypothesis Testing"
      ]
    },
    {
      "cell_type": "code",
      "source": [],
      "metadata": {
        "id": "lIvERK_tdoyp"
      },
      "id": "lIvERK_tdoyp",
      "execution_count": 6,
      "outputs": []
    },
    {
      "cell_type": "code",
      "source": [
        "# Step 1: Mount Google Drive\n",
        "from google.colab import drive\n",
        "drive.mount('/content/drive')\n"
      ],
      "metadata": {
        "colab": {
          "base_uri": "https://localhost:8080/"
        },
        "id": "x_9kTFpON48y",
        "outputId": "9fdbe103-b595-4f85-f65a-b28fbc78d9d2"
      },
      "execution_count": 7,
      "outputs": [
        {
          "output_type": "stream",
          "name": "stdout",
          "text": [
            "Drive already mounted at /content/drive; to attempt to forcibly remount, call drive.mount(\"/content/drive\", force_remount=True).\n"
          ]
        }
      ],
      "id": "x_9kTFpON48y"
    },
    {
      "cell_type": "code",
      "source": [
        "# Step 2: Define the folder path\n",
        "folder_path = '/content/drive/My Drive/Personal/Codebasics/AB Testing/'"
      ],
      "metadata": {
        "id": "C0AolfO5d1wf"
      },
      "id": "C0AolfO5d1wf",
      "execution_count": 8,
      "outputs": []
    },
    {
      "cell_type": "code",
      "execution_count": 9,
      "id": "fd866e98",
      "metadata": {
        "scrolled": true,
        "colab": {
          "base_uri": "https://localhost:8080/",
          "height": 174
        },
        "id": "fd866e98",
        "outputId": "eac7941b-917d-45a0-c374-ac523b0dc96c"
      },
      "outputs": [
        {
          "output_type": "execute_result",
          "data": {
            "text/plain": [
              "  campaign_date  control_group_avg_tran  test_group_avg_tran\n",
              "0    2023-09-10                  251.02               401.78\n",
              "1    2023-09-11                  250.77               326.16\n",
              "2    2023-09-12                  248.81               303.92\n",
              "3    2023-09-13                  255.90               363.29"
            ],
            "text/html": [
              "\n",
              "  <div id=\"df-06ca0c02-84d1-4172-a1a5-e36f5a39fea3\" class=\"colab-df-container\">\n",
              "    <div>\n",
              "<style scoped>\n",
              "    .dataframe tbody tr th:only-of-type {\n",
              "        vertical-align: middle;\n",
              "    }\n",
              "\n",
              "    .dataframe tbody tr th {\n",
              "        vertical-align: top;\n",
              "    }\n",
              "\n",
              "    .dataframe thead th {\n",
              "        text-align: right;\n",
              "    }\n",
              "</style>\n",
              "<table border=\"1\" class=\"dataframe\">\n",
              "  <thead>\n",
              "    <tr style=\"text-align: right;\">\n",
              "      <th></th>\n",
              "      <th>campaign_date</th>\n",
              "      <th>control_group_avg_tran</th>\n",
              "      <th>test_group_avg_tran</th>\n",
              "    </tr>\n",
              "  </thead>\n",
              "  <tbody>\n",
              "    <tr>\n",
              "      <th>0</th>\n",
              "      <td>2023-09-10</td>\n",
              "      <td>251.02</td>\n",
              "      <td>401.78</td>\n",
              "    </tr>\n",
              "    <tr>\n",
              "      <th>1</th>\n",
              "      <td>2023-09-11</td>\n",
              "      <td>250.77</td>\n",
              "      <td>326.16</td>\n",
              "    </tr>\n",
              "    <tr>\n",
              "      <th>2</th>\n",
              "      <td>2023-09-12</td>\n",
              "      <td>248.81</td>\n",
              "      <td>303.92</td>\n",
              "    </tr>\n",
              "    <tr>\n",
              "      <th>3</th>\n",
              "      <td>2023-09-13</td>\n",
              "      <td>255.90</td>\n",
              "      <td>363.29</td>\n",
              "    </tr>\n",
              "  </tbody>\n",
              "</table>\n",
              "</div>\n",
              "    <div class=\"colab-df-buttons\">\n",
              "\n",
              "  <div class=\"colab-df-container\">\n",
              "    <button class=\"colab-df-convert\" onclick=\"convertToInteractive('df-06ca0c02-84d1-4172-a1a5-e36f5a39fea3')\"\n",
              "            title=\"Convert this dataframe to an interactive table.\"\n",
              "            style=\"display:none;\">\n",
              "\n",
              "  <svg xmlns=\"http://www.w3.org/2000/svg\" height=\"24px\" viewBox=\"0 -960 960 960\">\n",
              "    <path d=\"M120-120v-720h720v720H120Zm60-500h600v-160H180v160Zm220 220h160v-160H400v160Zm0 220h160v-160H400v160ZM180-400h160v-160H180v160Zm440 0h160v-160H620v160ZM180-180h160v-160H180v160Zm440 0h160v-160H620v160Z\"/>\n",
              "  </svg>\n",
              "    </button>\n",
              "\n",
              "  <style>\n",
              "    .colab-df-container {\n",
              "      display:flex;\n",
              "      gap: 12px;\n",
              "    }\n",
              "\n",
              "    .colab-df-convert {\n",
              "      background-color: #E8F0FE;\n",
              "      border: none;\n",
              "      border-radius: 50%;\n",
              "      cursor: pointer;\n",
              "      display: none;\n",
              "      fill: #1967D2;\n",
              "      height: 32px;\n",
              "      padding: 0 0 0 0;\n",
              "      width: 32px;\n",
              "    }\n",
              "\n",
              "    .colab-df-convert:hover {\n",
              "      background-color: #E2EBFA;\n",
              "      box-shadow: 0px 1px 2px rgba(60, 64, 67, 0.3), 0px 1px 3px 1px rgba(60, 64, 67, 0.15);\n",
              "      fill: #174EA6;\n",
              "    }\n",
              "\n",
              "    .colab-df-buttons div {\n",
              "      margin-bottom: 4px;\n",
              "    }\n",
              "\n",
              "    [theme=dark] .colab-df-convert {\n",
              "      background-color: #3B4455;\n",
              "      fill: #D2E3FC;\n",
              "    }\n",
              "\n",
              "    [theme=dark] .colab-df-convert:hover {\n",
              "      background-color: #434B5C;\n",
              "      box-shadow: 0px 1px 3px 1px rgba(0, 0, 0, 0.15);\n",
              "      filter: drop-shadow(0px 1px 2px rgba(0, 0, 0, 0.3));\n",
              "      fill: #FFFFFF;\n",
              "    }\n",
              "  </style>\n",
              "\n",
              "    <script>\n",
              "      const buttonEl =\n",
              "        document.querySelector('#df-06ca0c02-84d1-4172-a1a5-e36f5a39fea3 button.colab-df-convert');\n",
              "      buttonEl.style.display =\n",
              "        google.colab.kernel.accessAllowed ? 'block' : 'none';\n",
              "\n",
              "      async function convertToInteractive(key) {\n",
              "        const element = document.querySelector('#df-06ca0c02-84d1-4172-a1a5-e36f5a39fea3');\n",
              "        const dataTable =\n",
              "          await google.colab.kernel.invokeFunction('convertToInteractive',\n",
              "                                                    [key], {});\n",
              "        if (!dataTable) return;\n",
              "\n",
              "        const docLinkHtml = 'Like what you see? Visit the ' +\n",
              "          '<a target=\"_blank\" href=https://colab.research.google.com/notebooks/data_table.ipynb>data table notebook</a>'\n",
              "          + ' to learn more about interactive tables.';\n",
              "        element.innerHTML = '';\n",
              "        dataTable['output_type'] = 'display_data';\n",
              "        await google.colab.output.renderOutput(dataTable, element);\n",
              "        const docLink = document.createElement('div');\n",
              "        docLink.innerHTML = docLinkHtml;\n",
              "        element.appendChild(docLink);\n",
              "      }\n",
              "    </script>\n",
              "  </div>\n",
              "\n",
              "\n",
              "    <div id=\"df-84929929-cdd6-4b95-af91-a6a15fb055df\">\n",
              "      <button class=\"colab-df-quickchart\" onclick=\"quickchart('df-84929929-cdd6-4b95-af91-a6a15fb055df')\"\n",
              "                title=\"Suggest charts\"\n",
              "                style=\"display:none;\">\n",
              "\n",
              "<svg xmlns=\"http://www.w3.org/2000/svg\" height=\"24px\"viewBox=\"0 0 24 24\"\n",
              "     width=\"24px\">\n",
              "    <g>\n",
              "        <path d=\"M19 3H5c-1.1 0-2 .9-2 2v14c0 1.1.9 2 2 2h14c1.1 0 2-.9 2-2V5c0-1.1-.9-2-2-2zM9 17H7v-7h2v7zm4 0h-2V7h2v10zm4 0h-2v-4h2v4z\"/>\n",
              "    </g>\n",
              "</svg>\n",
              "      </button>\n",
              "\n",
              "<style>\n",
              "  .colab-df-quickchart {\n",
              "      --bg-color: #E8F0FE;\n",
              "      --fill-color: #1967D2;\n",
              "      --hover-bg-color: #E2EBFA;\n",
              "      --hover-fill-color: #174EA6;\n",
              "      --disabled-fill-color: #AAA;\n",
              "      --disabled-bg-color: #DDD;\n",
              "  }\n",
              "\n",
              "  [theme=dark] .colab-df-quickchart {\n",
              "      --bg-color: #3B4455;\n",
              "      --fill-color: #D2E3FC;\n",
              "      --hover-bg-color: #434B5C;\n",
              "      --hover-fill-color: #FFFFFF;\n",
              "      --disabled-bg-color: #3B4455;\n",
              "      --disabled-fill-color: #666;\n",
              "  }\n",
              "\n",
              "  .colab-df-quickchart {\n",
              "    background-color: var(--bg-color);\n",
              "    border: none;\n",
              "    border-radius: 50%;\n",
              "    cursor: pointer;\n",
              "    display: none;\n",
              "    fill: var(--fill-color);\n",
              "    height: 32px;\n",
              "    padding: 0;\n",
              "    width: 32px;\n",
              "  }\n",
              "\n",
              "  .colab-df-quickchart:hover {\n",
              "    background-color: var(--hover-bg-color);\n",
              "    box-shadow: 0 1px 2px rgba(60, 64, 67, 0.3), 0 1px 3px 1px rgba(60, 64, 67, 0.15);\n",
              "    fill: var(--button-hover-fill-color);\n",
              "  }\n",
              "\n",
              "  .colab-df-quickchart-complete:disabled,\n",
              "  .colab-df-quickchart-complete:disabled:hover {\n",
              "    background-color: var(--disabled-bg-color);\n",
              "    fill: var(--disabled-fill-color);\n",
              "    box-shadow: none;\n",
              "  }\n",
              "\n",
              "  .colab-df-spinner {\n",
              "    border: 2px solid var(--fill-color);\n",
              "    border-color: transparent;\n",
              "    border-bottom-color: var(--fill-color);\n",
              "    animation:\n",
              "      spin 1s steps(1) infinite;\n",
              "  }\n",
              "\n",
              "  @keyframes spin {\n",
              "    0% {\n",
              "      border-color: transparent;\n",
              "      border-bottom-color: var(--fill-color);\n",
              "      border-left-color: var(--fill-color);\n",
              "    }\n",
              "    20% {\n",
              "      border-color: transparent;\n",
              "      border-left-color: var(--fill-color);\n",
              "      border-top-color: var(--fill-color);\n",
              "    }\n",
              "    30% {\n",
              "      border-color: transparent;\n",
              "      border-left-color: var(--fill-color);\n",
              "      border-top-color: var(--fill-color);\n",
              "      border-right-color: var(--fill-color);\n",
              "    }\n",
              "    40% {\n",
              "      border-color: transparent;\n",
              "      border-right-color: var(--fill-color);\n",
              "      border-top-color: var(--fill-color);\n",
              "    }\n",
              "    60% {\n",
              "      border-color: transparent;\n",
              "      border-right-color: var(--fill-color);\n",
              "    }\n",
              "    80% {\n",
              "      border-color: transparent;\n",
              "      border-right-color: var(--fill-color);\n",
              "      border-bottom-color: var(--fill-color);\n",
              "    }\n",
              "    90% {\n",
              "      border-color: transparent;\n",
              "      border-bottom-color: var(--fill-color);\n",
              "    }\n",
              "  }\n",
              "</style>\n",
              "\n",
              "      <script>\n",
              "        async function quickchart(key) {\n",
              "          const quickchartButtonEl =\n",
              "            document.querySelector('#' + key + ' button');\n",
              "          quickchartButtonEl.disabled = true;  // To prevent multiple clicks.\n",
              "          quickchartButtonEl.classList.add('colab-df-spinner');\n",
              "          try {\n",
              "            const charts = await google.colab.kernel.invokeFunction(\n",
              "                'suggestCharts', [key], {});\n",
              "          } catch (error) {\n",
              "            console.error('Error during call to suggestCharts:', error);\n",
              "          }\n",
              "          quickchartButtonEl.classList.remove('colab-df-spinner');\n",
              "          quickchartButtonEl.classList.add('colab-df-quickchart-complete');\n",
              "        }\n",
              "        (() => {\n",
              "          let quickchartButtonEl =\n",
              "            document.querySelector('#df-84929929-cdd6-4b95-af91-a6a15fb055df button');\n",
              "          quickchartButtonEl.style.display =\n",
              "            google.colab.kernel.accessAllowed ? 'block' : 'none';\n",
              "        })();\n",
              "      </script>\n",
              "    </div>\n",
              "\n",
              "    </div>\n",
              "  </div>\n"
            ],
            "application/vnd.google.colaboratory.intrinsic+json": {
              "type": "dataframe",
              "variable_name": "df",
              "summary": "{\n  \"name\": \"df\",\n  \"rows\": 62,\n  \"fields\": [\n    {\n      \"column\": \"campaign_date\",\n      \"properties\": {\n        \"dtype\": \"object\",\n        \"num_unique_values\": 62,\n        \"samples\": [\n          \"2023-10-30\",\n          \"2023-11-05\",\n          \"2023-09-10\"\n        ],\n        \"semantic_type\": \"\",\n        \"description\": \"\"\n      }\n    },\n    {\n      \"column\": \"control_group_avg_tran\",\n      \"properties\": {\n        \"dtype\": \"number\",\n        \"std\": 9.137869049553624,\n        \"min\": 223.1,\n        \"max\": 275.28,\n        \"num_unique_values\": 62,\n        \"samples\": [\n          252.93,\n          243.16,\n          251.02\n        ],\n        \"semantic_type\": \"\",\n        \"description\": \"\"\n      }\n    },\n    {\n      \"column\": \"test_group_avg_tran\",\n      \"properties\": {\n        \"dtype\": \"number\",\n        \"std\": 63.25415113953285,\n        \"min\": 214.06,\n        \"max\": 537.39,\n        \"num_unique_values\": 62,\n        \"samples\": [\n          307.28,\n          428.83,\n          401.78\n        ],\n        \"semantic_type\": \"\",\n        \"description\": \"\"\n      }\n    }\n  ]\n}"
            }
          },
          "metadata": {},
          "execution_count": 9
        }
      ],
      "source": [
        "# Loading campaign results data\n",
        "df = pd.read_csv(folder_path + 'avg_transactions_after_campaign.csv')\n",
        "df.head(4)"
      ]
    },
    {
      "cell_type": "code",
      "execution_count": 10,
      "id": "008b0cd6",
      "metadata": {
        "colab": {
          "base_uri": "https://localhost:8080/"
        },
        "id": "008b0cd6",
        "outputId": "403d877d-420a-4683-c168-e04ee5594951"
      },
      "outputs": [
        {
          "output_type": "execute_result",
          "data": {
            "text/plain": [
              "(62, 3)"
            ]
          },
          "metadata": {},
          "execution_count": 10
        }
      ],
      "source": [
        "df.shape"
      ]
    },
    {
      "cell_type": "code",
      "execution_count": 11,
      "id": "b8c960d9",
      "metadata": {
        "scrolled": true,
        "colab": {
          "base_uri": "https://localhost:8080/",
          "height": 333
        },
        "id": "b8c960d9",
        "outputId": "f83e5f5a-f95c-46f1-cab7-3dfaad46140a"
      },
      "outputs": [
        {
          "output_type": "display_data",
          "data": {
            "text/plain": [
              "<Figure size 1100x300 with 2 Axes>"
            ],
            "image/png": "[encoded data removed]"
          },
          "metadata": {}
        }
      ],
      "source": [
        "# Let's look at distributions of avg transactions amounts in both groups\n",
        "# Create a 1x2 grid of subplots\n",
        "fig, (ax1, ax2) = plt.subplots(1, 2, figsize=(11, 3))\n",
        "\n",
        "# Plot the distribution of Campaign A Sales\n",
        "sns.histplot(df['control_group_avg_tran'], kde=True, color='skyblue', label='Control group avg transaction amounts', ax=ax1)\n",
        "ax1.set_xlabel('Sales')\n",
        "ax1.set_ylabel('Frequency')\n",
        "ax1.set_title('Distribution of Control group avg transaction amounts')\n",
        "ax1.legend()\n",
        "\n",
        "# Plot the distribution of Campaign B Sales\n",
        "sns.histplot(df['test_group_avg_tran'], kde=True, color='lightgreen', label='Test group avg transaction amounts', ax=ax2)\n",
        "ax2.set_xlabel('Sales')\n",
        "ax2.set_ylabel('Frequency')\n",
        "ax2.set_title('Distribution of test group avg transaction amounts')\n",
        "ax2.legend()\n",
        "\n",
        "# Show the plots\n",
        "plt.show()"
      ]
    },
    {
      "cell_type": "markdown",
      "id": "b20f2c8a",
      "metadata": {
        "id": "b20f2c8a"
      },
      "source": [
        "#### Perform Hypothesis Testing Using Two Sample Z-test"
      ]
    },
    {
      "cell_type": "code",
      "execution_count": 13,
      "id": "f014b846",
      "metadata": {
        "colab": {
          "base_uri": "https://localhost:8080/"
        },
        "id": "f014b846",
        "outputId": "cf271919-950e-4377-f2f2-fca61a8c1c16"
      },
      "outputs": [
        {
          "output_type": "execute_result",
          "data": {
            "text/plain": [
              "(np.float64(248.94129032258064), 9.137869049553624)"
            ]
          },
          "metadata": {},
          "execution_count": 13
        }
      ],
      "source": [
        "control_mean = df[\"control_group_avg_tran\"].mean()\n",
        "control_std = df[\"control_group_avg_tran\"].std()\n",
        "control_mean, control_std"
      ]
    },
    {
      "cell_type": "code",
      "execution_count": 14,
      "id": "fe26237a",
      "metadata": {
        "colab": {
          "base_uri": "https://localhost:8080/"
        },
        "id": "fe26237a",
        "outputId": "b4abd1b0-a993-4755-e236-dac67f67eae8"
      },
      "outputs": [
        {
          "output_type": "execute_result",
          "data": {
            "text/plain": [
              "(np.float64(370.5364516129033), 63.25415113953285)"
            ]
          },
          "metadata": {},
          "execution_count": 14
        }
      ],
      "source": [
        "test_mean = df[\"test_group_avg_tran\"].mean()\n",
        "test_std = df[\"test_group_avg_tran\"].std()\n",
        "test_mean, test_std"
      ]
    },
    {
      "cell_type": "code",
      "execution_count": 15,
      "id": "bf7f21dd",
      "metadata": {
        "colab": {
          "base_uri": "https://localhost:8080/"
        },
        "id": "bf7f21dd",
        "outputId": "2ff1cbf6-4933-4e8d-bd78-e56370ab57f8"
      },
      "outputs": [
        {
          "output_type": "execute_result",
          "data": {
            "text/plain": [
              "62"
            ]
          },
          "metadata": {},
          "execution_count": 15
        }
      ],
      "source": [
        "sample_size = df.shape[0]\n",
        "sample_size"
      ]
    },
    {
      "cell_type": "markdown",
      "id": "dd86ff22",
      "metadata": {
        "id": "dd86ff22"
      },
      "source": [
        "### Test Using Rejection Region (i.e. Critical Z Value)"
      ]
    },
    {
      "cell_type": "code",
      "execution_count": 22,
      "id": "bad45efc",
      "metadata": {
        "scrolled": true,
        "colab": {
          "base_uri": "https://localhost:8080/"
        },
        "id": "bad45efc",
        "outputId": "495cb09c-e98b-4646-9adc-642580296af2"
      },
      "outputs": [
        {
          "output_type": "stream",
          "name": "stdout",
          "text": [
            "14.980903070990523\n"
          ]
        }
      ],
      "source": [
        "a = (control_std**2/sample_size)\n",
        "b = (test_std**2/sample_size)\n",
        "\n",
        "Z_score = (test_mean-control_mean)/np.sqrt(a+b)\n",
        "print(Z_score)"
      ]
    },
    {
      "cell_type": "code",
      "execution_count": 17,
      "id": "1c7b52a7",
      "metadata": {
        "colab": {
          "base_uri": "https://localhost:8080/"
        },
        "id": "1c7b52a7",
        "outputId": "e6317ec2-d135-436b-937c-f157de6bcc99"
      },
      "outputs": [
        {
          "output_type": "execute_result",
          "data": {
            "text/plain": [
              "np.float64(1.6448536269514722)"
            ]
          },
          "metadata": {},
          "execution_count": 17
        }
      ],
      "source": [
        "# For a significance level of 5% (0.05) in a right-tailed test, the critical Z-value is approximately 1.645\n",
        "critical_z_value = st.norm.ppf(1 - alpha)  # Right-tailed test at 5% significance level\n",
        "critical_z_value"
      ]
    },
    {
      "cell_type": "code",
      "execution_count": 18,
      "id": "c2048e15",
      "metadata": {
        "scrolled": true,
        "colab": {
          "base_uri": "https://localhost:8080/"
        },
        "id": "c2048e15",
        "outputId": "a8479de6-3517-4b01-dc50-b12eed8ed4c5"
      },
      "outputs": [
        {
          "output_type": "execute_result",
          "data": {
            "text/plain": [
              "np.True_"
            ]
          },
          "metadata": {},
          "execution_count": 18
        }
      ],
      "source": [
        "Z_score > critical_z_value"
      ]
    },
    {
      "cell_type": "markdown",
      "id": "cb4a4b25",
      "metadata": {
        "id": "cb4a4b25"
      },
      "source": [
        "Since Z score is higher than critical Z value, we can reject the null hypothesis."
      ]
    },
    {
      "cell_type": "markdown",
      "id": "2cf3e76c",
      "metadata": {
        "id": "2cf3e76c"
      },
      "source": [
        "### Test Using p-Value"
      ]
    },
    {
      "cell_type": "code",
      "execution_count": 19,
      "id": "f522eb37",
      "metadata": {
        "colab": {
          "base_uri": "https://localhost:8080/"
        },
        "id": "f522eb37",
        "outputId": "5ba7700f-0d2f-447e-a862-0752a84080a9"
      },
      "outputs": [
        {
          "output_type": "execute_result",
          "data": {
            "text/plain": [
              "np.float64(0.0)"
            ]
          },
          "metadata": {},
          "execution_count": 19
        }
      ],
      "source": [
        "# Calculate the p-value corresponding to z score for a right-tailed test\n",
        "p_value = 1 - st.norm.cdf(Z_score)\n",
        "p_value"
      ]
    },
    {
      "cell_type": "code",
      "execution_count": 20,
      "id": "7b12453c",
      "metadata": {
        "colab": {
          "base_uri": "https://localhost:8080/"
        },
        "id": "7b12453c",
        "outputId": "3f922e2e-036c-4858-cdbe-389d44f7457a"
      },
      "outputs": [
        {
          "output_type": "execute_result",
          "data": {
            "text/plain": [
              "np.True_"
            ]
          },
          "metadata": {},
          "execution_count": 20
        }
      ],
      "source": [
        "p_value < alpha # p value is less than significance level of 5% (or 0.05 for absolute value)"
      ]
    },
    {
      "cell_type": "markdown",
      "id": "4e47673a",
      "metadata": {
        "id": "4e47673a"
      },
      "source": [
        "Since p value is less than significance level (i.e. alpha), we can reject the null hypothesis."
      ]
    },
    {
      "cell_type": "markdown",
      "source": [],
      "metadata": {
        "id": "IA3g5aqVgX34"
      },
      "id": "IA3g5aqVgX34"
    },
    {
      "cell_type": "markdown",
      "metadata": {
        "id": "69a16228"
      },
      "source": [
        "## Conclusion\n",
        "\n",
        "The A/B test conducted on the 18-25 age group for the new credit card product has yielded significant positive results. The test group, exposed to the new credit card, demonstrated a statistically significant increase in average transaction amounts compared to the control group.\n",
        "\n",
        "This outcome indicates that the new credit card product is effective in driving higher transaction values within this key demographic. The observed increase in average transaction amounts aligns with our business objective of enhancing credit card usage and spending among younger customers.\n",
        "\n",
        "Based on these findings, we recommend a wider rollout of the new credit card product to the broader 18-25 customer segment. Further monitoring and analysis will be conducted to track long-term performance and identify opportunities for optimization."
      ],
      "id": "69a16228"
    }
  ],
  "metadata": {
    "kernelspec": {
      "display_name": "Python 3 (ipykernel)",
      "language": "python",
      "name": "python3"
    },
    "language_info": {
      "codemirror_mode": {
        "name": "ipython",
        "version": 3
      },
      "file_extension": ".py",
      "mimetype": "text/x-python",
      "name": "python",
      "nbconvert_exporter": "python",
      "pygments_lexer": "ipython3",
      "version": "3.13.1"
    },
    "colab": {
      "provenance": []
    }
  },
  "nbformat": 4,
  "nbformat_minor": 5
}